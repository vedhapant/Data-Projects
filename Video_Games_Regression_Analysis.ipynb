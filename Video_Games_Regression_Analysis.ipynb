{
  "nbformat": 4,
  "nbformat_minor": 0,
  "metadata": {
    "colab": {
      "provenance": [],
      "authorship_tag": "ABX9TyPlvX0d1NvTf2ji9eUq0mc4",
      "include_colab_link": true
    },
    "kernelspec": {
      "name": "python3",
      "display_name": "Python 3"
    },
    "language_info": {
      "name": "python"
    }
  },
  "cells": [
    {
      "cell_type": "markdown",
      "metadata": {
        "id": "view-in-github",
        "colab_type": "text"
      },
      "source": [
        "<a href=\"https://colab.research.google.com/github/vedhapant/vedhapant/blob/main/Video_Games_Regression_Analysis.ipynb\" target=\"_parent\"><img src=\"https://colab.research.google.com/assets/colab-badge.svg\" alt=\"Open In Colab\"/></a>"
      ]
    },
    {
      "cell_type": "code",
      "execution_count": 8,
      "metadata": {
        "id": "xenyvuauKuqA"
      },
      "outputs": [],
      "source": [
        "import pandas as pd\n",
        "import matplotlib.pyplot as plt\n",
        "import seaborn as sns\n",
        "sns.set()\n",
        "import statsmodels.formula.api as smf\n",
        "from sklearn.model_selection import train_test_split\n",
        "import statsmodels.api as sm\n",
        "import numpy as np"
      ]
    },
    {
      "cell_type": "markdown",
      "source": [
        "# Introdution\n",
        "\n",
        "Video Games Dataset Regression Exploration\n",
        "\n",
        "- DataSet Introduction: This dataset has information about the sales and playtime of over a thousand video games released between 2004 and 2010. The playtime information was collected from crowd-sourced data on “How Long to Beat\" collected and curated by Dr. Joe Cox. The original dataset can be accessed here :\n",
        "\n",
        "\n",
        "https://researchportal.port.ac.uk/en/publications/what-makes-a-blockbuster-video-game-an-empirical-analysis-of-us-s\n",
        "\n",
        "Video games have become a favorite form of entertainment over the past few decades, with millions of players worldwide engaging with various genres and platforms. Understanding what factors contribute to the success of a video game can be important to game developers, publishers, and marketers. By analyzing a dataset of video games released between 2004 and 2010,I can explore how certain characteristic ,impact total sales performance using linear and logistic regression.i\n",
        "\n",
        "- Research Questions :\n",
        "\n",
        "Linear Regression Question: What factors influence US Sales of video games ?\n",
        "\n",
        "Logistic Regression Question: Can we classify games as “high sales” based on their features?\n",
        "\n",
        "- Response Variables:\n",
        "\n",
        "Linear Regression: Response = US Sales in millions.\n",
        "\n",
        "Logistic Regression: Response = Log odds of success of a video game(Success).\n",
        "\n",
        "- Motivation: Understanding the relationship between US Sales and other factors can provide valuable insights for game developers, publishers, and marketers. For example, if higher review scores consistently correlate with greater sale then developers might prioritize investing in product improvements and user experience enhancement. These insights are not only important for maximizing profits but also for aligning production and game development strategies with consumer preferences. It will also be a helpful metric for investors who seek to understand what strategies drive profitability in the gaming market."
      ],
      "metadata": {
        "id": "GiqLm3cdMNxc"
      }
    },
    {
      "cell_type": "markdown",
      "source": [
        "# Linear Regression"
      ],
      "metadata": {
        "id": "inAReJa4Tx7v"
      }
    },
    {
      "cell_type": "code",
      "source": [
        "df = pd.read_csv('video_games.csv', encoding='unicode-escape')\n",
        "df_train, df_test = train_test_split(df, test_size = 0.30, random_state = 1024)\n",
        "## splitting data into training and test to ensure model accuracy"
      ],
      "metadata": {
        "id": "5ST70_J6LOc1"
      },
      "execution_count": 9,
      "outputs": []
    },
    {
      "cell_type": "code",
      "source": [
        "## Linear Regression Model using YearReleased, UsedPrice, ReviewScore, MaxPlayers to predict US Sales\n",
        "df_train = df_train.rename(columns={'US Sales (millions)': 'US_Sales', 'Review Score': 'Review_Score'})\n",
        "df_test = df_test.rename(columns={'US Sales (millions)': 'US_Sales', 'Review Score': 'Review_Score'})\n",
        "model = smf.ols('US_Sales ~ YearReleased + Usedprice + Review_Score + MaxPlayers', data=df_train).fit()\n",
        "model.summary()"
      ],
      "metadata": {
        "colab": {
          "base_uri": "https://localhost:8080/",
          "height": 550
        },
        "id": "Ih9C7l1-N4mf",
        "outputId": "5ea409e0-3d52-4ec9-e187-1ccc1fb5b613"
      },
      "execution_count": 10,
      "outputs": [
        {
          "output_type": "execute_result",
          "data": {
            "text/plain": [
              "<class 'statsmodels.iolib.summary.Summary'>\n",
              "\"\"\"\n",
              "                            OLS Regression Results                            \n",
              "==============================================================================\n",
              "Dep. Variable:               US_Sales   R-squared:                       0.115\n",
              "Model:                            OLS   Adj. R-squared:                  0.112\n",
              "Method:                 Least Squares   F-statistic:                     40.04\n",
              "Date:                Mon, 27 Jan 2025   Prob (F-statistic):           1.43e-31\n",
              "Time:                        14:55:32   Log-Likelihood:                -1821.6\n",
              "No. Observations:                1239   AIC:                             3653.\n",
              "Df Residuals:                    1234   BIC:                             3679.\n",
              "Df Model:                           4                                         \n",
              "Covariance Type:            nonrobust                                         \n",
              "================================================================================\n",
              "                   coef    std err          t      P>|t|      [0.025      0.975]\n",
              "--------------------------------------------------------------------------------\n",
              "Intercept      107.6063     50.580      2.127      0.034       8.373     206.839\n",
              "YearReleased    -0.0543      0.025     -2.154      0.031      -0.104      -0.005\n",
              "Usedprice        0.0271      0.005      5.959      0.000       0.018       0.036\n",
              "Review_Score     0.0183      0.002      8.228      0.000       0.014       0.023\n",
              "MaxPlayers       0.0765      0.024      3.195      0.001       0.030       0.123\n",
              "==============================================================================\n",
              "Omnibus:                     1651.498   Durbin-Watson:                   1.799\n",
              "Prob(Omnibus):                  0.000   Jarque-Bera (JB):           288690.858\n",
              "Skew:                           7.281   Prob(JB):                         0.00\n",
              "Kurtosis:                      76.349   Cond. No.                     3.39e+06\n",
              "==============================================================================\n",
              "\n",
              "Notes:\n",
              "[1] Standard Errors assume that the covariance matrix of the errors is correctly specified.\n",
              "[2] The condition number is large, 3.39e+06. This might indicate that there are\n",
              "strong multicollinearity or other numerical problems.\n",
              "\"\"\""
            ],
            "text/html": [
              "<table class=\"simpletable\">\n",
              "<caption>OLS Regression Results</caption>\n",
              "<tr>\n",
              "  <th>Dep. Variable:</th>        <td>US_Sales</td>     <th>  R-squared:         </th> <td>   0.115</td>\n",
              "</tr>\n",
              "<tr>\n",
              "  <th>Model:</th>                   <td>OLS</td>       <th>  Adj. R-squared:    </th> <td>   0.112</td>\n",
              "</tr>\n",
              "<tr>\n",
              "  <th>Method:</th>             <td>Least Squares</td>  <th>  F-statistic:       </th> <td>   40.04</td>\n",
              "</tr>\n",
              "<tr>\n",
              "  <th>Date:</th>             <td>Mon, 27 Jan 2025</td> <th>  Prob (F-statistic):</th> <td>1.43e-31</td>\n",
              "</tr>\n",
              "<tr>\n",
              "  <th>Time:</th>                 <td>14:55:32</td>     <th>  Log-Likelihood:    </th> <td> -1821.6</td>\n",
              "</tr>\n",
              "<tr>\n",
              "  <th>No. Observations:</th>      <td>  1239</td>      <th>  AIC:               </th> <td>   3653.</td>\n",
              "</tr>\n",
              "<tr>\n",
              "  <th>Df Residuals:</th>          <td>  1234</td>      <th>  BIC:               </th> <td>   3679.</td>\n",
              "</tr>\n",
              "<tr>\n",
              "  <th>Df Model:</th>              <td>     4</td>      <th>                     </th>     <td> </td>   \n",
              "</tr>\n",
              "<tr>\n",
              "  <th>Covariance Type:</th>      <td>nonrobust</td>    <th>                     </th>     <td> </td>   \n",
              "</tr>\n",
              "</table>\n",
              "<table class=\"simpletable\">\n",
              "<tr>\n",
              "        <td></td>          <th>coef</th>     <th>std err</th>      <th>t</th>      <th>P>|t|</th>  <th>[0.025</th>    <th>0.975]</th>  \n",
              "</tr>\n",
              "<tr>\n",
              "  <th>Intercept</th>    <td>  107.6063</td> <td>   50.580</td> <td>    2.127</td> <td> 0.034</td> <td>    8.373</td> <td>  206.839</td>\n",
              "</tr>\n",
              "<tr>\n",
              "  <th>YearReleased</th> <td>   -0.0543</td> <td>    0.025</td> <td>   -2.154</td> <td> 0.031</td> <td>   -0.104</td> <td>   -0.005</td>\n",
              "</tr>\n",
              "<tr>\n",
              "  <th>Usedprice</th>    <td>    0.0271</td> <td>    0.005</td> <td>    5.959</td> <td> 0.000</td> <td>    0.018</td> <td>    0.036</td>\n",
              "</tr>\n",
              "<tr>\n",
              "  <th>Review_Score</th> <td>    0.0183</td> <td>    0.002</td> <td>    8.228</td> <td> 0.000</td> <td>    0.014</td> <td>    0.023</td>\n",
              "</tr>\n",
              "<tr>\n",
              "  <th>MaxPlayers</th>   <td>    0.0765</td> <td>    0.024</td> <td>    3.195</td> <td> 0.001</td> <td>    0.030</td> <td>    0.123</td>\n",
              "</tr>\n",
              "</table>\n",
              "<table class=\"simpletable\">\n",
              "<tr>\n",
              "  <th>Omnibus:</th>       <td>1651.498</td> <th>  Durbin-Watson:     </th>  <td>   1.799</td> \n",
              "</tr>\n",
              "<tr>\n",
              "  <th>Prob(Omnibus):</th>  <td> 0.000</td>  <th>  Jarque-Bera (JB):  </th> <td>288690.858</td>\n",
              "</tr>\n",
              "<tr>\n",
              "  <th>Skew:</th>           <td> 7.281</td>  <th>  Prob(JB):          </th>  <td>    0.00</td> \n",
              "</tr>\n",
              "<tr>\n",
              "  <th>Kurtosis:</th>       <td>76.349</td>  <th>  Cond. No.          </th>  <td>3.39e+06</td> \n",
              "</tr>\n",
              "</table><br/><br/>Notes:<br/>[1] Standard Errors assume that the covariance matrix of the errors is correctly specified.<br/>[2] The condition number is large, 3.39e+06. This might indicate that there are<br/>strong multicollinearity or other numerical problems."
            ],
            "text/latex": "\\begin{center}\n\\begin{tabular}{lclc}\n\\toprule\n\\textbf{Dep. Variable:}    &    US\\_Sales     & \\textbf{  R-squared:         } &     0.115   \\\\\n\\textbf{Model:}            &       OLS        & \\textbf{  Adj. R-squared:    } &     0.112   \\\\\n\\textbf{Method:}           &  Least Squares   & \\textbf{  F-statistic:       } &     40.04   \\\\\n\\textbf{Date:}             & Mon, 27 Jan 2025 & \\textbf{  Prob (F-statistic):} &  1.43e-31   \\\\\n\\textbf{Time:}             &     14:55:32     & \\textbf{  Log-Likelihood:    } &   -1821.6   \\\\\n\\textbf{No. Observations:} &        1239      & \\textbf{  AIC:               } &     3653.   \\\\\n\\textbf{Df Residuals:}     &        1234      & \\textbf{  BIC:               } &     3679.   \\\\\n\\textbf{Df Model:}         &           4      & \\textbf{                     } &             \\\\\n\\textbf{Covariance Type:}  &    nonrobust     & \\textbf{                     } &             \\\\\n\\bottomrule\n\\end{tabular}\n\\begin{tabular}{lcccccc}\n                       & \\textbf{coef} & \\textbf{std err} & \\textbf{t} & \\textbf{P$> |$t$|$} & \\textbf{[0.025} & \\textbf{0.975]}  \\\\\n\\midrule\n\\textbf{Intercept}     &     107.6063  &       50.580     &     2.127  &         0.034        &        8.373    &      206.839     \\\\\n\\textbf{YearReleased}  &      -0.0543  &        0.025     &    -2.154  &         0.031        &       -0.104    &       -0.005     \\\\\n\\textbf{Usedprice}     &       0.0271  &        0.005     &     5.959  &         0.000        &        0.018    &        0.036     \\\\\n\\textbf{Review\\_Score} &       0.0183  &        0.002     &     8.228  &         0.000        &        0.014    &        0.023     \\\\\n\\textbf{MaxPlayers}    &       0.0765  &        0.024     &     3.195  &         0.001        &        0.030    &        0.123     \\\\\n\\bottomrule\n\\end{tabular}\n\\begin{tabular}{lclc}\n\\textbf{Omnibus:}       & 1651.498 & \\textbf{  Durbin-Watson:     } &     1.799   \\\\\n\\textbf{Prob(Omnibus):} &   0.000  & \\textbf{  Jarque-Bera (JB):  } & 288690.858  \\\\\n\\textbf{Skew:}          &   7.281  & \\textbf{  Prob(JB):          } &      0.00   \\\\\n\\textbf{Kurtosis:}      &  76.349  & \\textbf{  Cond. No.          } &  3.39e+06   \\\\\n\\bottomrule\n\\end{tabular}\n%\\caption{OLS Regression Results}\n\\end{center}\n\nNotes: \\newline\n [1] Standard Errors assume that the covariance matrix of the errors is correctly specified. \\newline\n [2] The condition number is large, 3.39e+06. This might indicate that there are \\newline\n strong multicollinearity or other numerical problems."
          },
          "metadata": {},
          "execution_count": 10
        }
      ]
    },
    {
      "cell_type": "code",
      "source": [
        "from sklearn.metrics import mean_squared_error\n",
        "y_pred = model.predict(df_test)\n",
        "rmse = np.sqrt(mean_squared_error(df_test['US_Sales'], y_pred))\n",
        "rmse"
      ],
      "metadata": {
        "colab": {
          "base_uri": "https://localhost:8080/"
        },
        "id": "S-rjZyoiSt5r",
        "outputId": "03fe0610-bcc0-4a7b-9265-57144cb01118"
      },
      "execution_count": 11,
      "outputs": [
        {
          "output_type": "execute_result",
          "data": {
            "text/plain": [
              "0.8525493004024168"
            ]
          },
          "metadata": {},
          "execution_count": 11
        }
      ]
    },
    {
      "cell_type": "markdown",
      "source": [
        "- Fitted Model for US Sales in Millions:\n",
        "\n",
        " ŷ = 107.6063 − 0.0543 × YearReleased + 0.0271 × Usedprice + 0.0183 × Review_Score + 0.0765 × MaxPlayers\n",
        "\n",
        "- Interpretation of the slope for any variable of interest:\n",
        "\n",
        "Eg: The slope coefficient for Usedprice is 0.0271. This implies that for each additional unit increase in the price of the used game, the US Sales (millions) increase by 0.0271 million units, holding all other variables constant.\n",
        "\n",
        "\n",
        "- 95% Confidence Interval and Inference for any variable:  \n",
        "\n",
        "Eg: The 95% confidence interval for the Usedprice coefficient is (0.018,0.036).This can be interpreted as: We are 95% confident that the true population slope for Usedprice lies within the interval 0.018 - 0.036.\n",
        "\n",
        "- Model Performance:\n",
        "\n",
        "R-squared: Value is 0.115, meaning 11.5% of the variability in US Sales (millions) is explained by the model. This is relatively low, suggesting the model does not account for most of the variability in sales, and additional predictors may be needed.\n",
        "\n",
        "Root Mean Squared Error (RMSE): The RMSE value represents the average deviation between the actual and predicted US_Sales (in millions). An RMSE of 0.8525 means that, on average, the model's predictions for US_Sales are off by about 0.85 million units (850,000 sales). In the context of this dataset, an RMSE of 0.8525 million can be considered high, suggesting that the model's predictions have significant error."
      ],
      "metadata": {
        "id": "gdWPNeoxQUzP"
      }
    },
    {
      "cell_type": "code",
      "source": [
        "# Residual Plot: Residuals vs Fitted Values: To further analyse the model accuracy\n",
        "fitted_values = model.fittedvalues\n",
        "residuals = model.resid\n",
        "\n",
        "plt.figure(figsize=(8, 5))\n",
        "sns.residplot(x=fitted_values, y=residuals, lowess=True, line_kws={'color': 'red', 'lw': 2}, scatter_kws={'alpha': 0.5})\n",
        "plt.axhline(0, color='black', linestyle='--', linewidth=1)\n",
        "plt.title('Residuals vs Fitted Values')\n",
        "plt.xlabel('Fitted Values')\n",
        "plt.ylabel('Residuals')\n",
        "plt.show()"
      ],
      "metadata": {
        "colab": {
          "base_uri": "https://localhost:8080/",
          "height": 496
        },
        "id": "w4rsdWa3RhE0",
        "outputId": "81d78017-8828-4b29-dbaf-3d030246946f"
      },
      "execution_count": 12,
      "outputs": [
        {
          "output_type": "display_data",
          "data": {
            "text/plain": [
              "<Figure size 800x500 with 1 Axes>"
            ],
            "image/png": "[encoded data removed]"
          },
          "metadata": {}
        }
      ]
    },
    {
      "cell_type": "code",
      "source": [
        "## qq plot\n",
        "sm.qqplot(residuals, line='45', fit=True)\n",
        "plt.title('QQ Plot of Residuals')\n",
        "plt.show"
      ],
      "metadata": {
        "colab": {
          "base_uri": "https://localhost:8080/",
          "height": 649
        },
        "id": "rNXyNDtcTS9y",
        "outputId": "60b8a279-62c0-4c25-e7ec-cb9efceea7c2"
      },
      "execution_count": 13,
      "outputs": [
        {
          "output_type": "execute_result",
          "data": {
            "text/plain": [
              "<function matplotlib.pyplot.show(close=None, block=None)>"
            ],
            "text/html": [
              "<div style=\"max-width:800px; border: 1px solid var(--colab-border-color);\"><style>\n",
              "      pre.function-repr-contents {\n",
              "        overflow-x: auto;\n",
              "        padding: 8px 12px;\n",
              "        max-height: 500px;\n",
              "      }\n",
              "\n",
              "      pre.function-repr-contents.function-repr-contents-collapsed {\n",
              "        cursor: pointer;\n",
              "        max-height: 100px;\n",
              "      }\n",
              "    </style>\n",
              "    <pre style=\"white-space: initial; background:\n",
              "         var(--colab-secondary-surface-color); padding: 8px 12px;\n",
              "         border-bottom: 1px solid var(--colab-border-color);\"><b>matplotlib.pyplot.show</b><br/>def show(*args, **kwargs) -&gt; None</pre><pre class=\"function-repr-contents function-repr-contents-collapsed\" style=\"\"><a class=\"filepath\" style=\"display:none\" href=\"#\">/usr/local/lib/python3.11/dist-packages/matplotlib/pyplot.py</a>Display all open figures.\n",
              "\n",
              "Parameters\n",
              "----------\n",
              "block : bool, optional\n",
              "    Whether to wait for all figures to be closed before returning.\n",
              "\n",
              "    If `True` block and run the GUI main loop until all figure windows\n",
              "    are closed.\n",
              "\n",
              "    If `False` ensure that all figure windows are displayed and return\n",
              "    immediately.  In this case, you are responsible for ensuring\n",
              "    that the event loop is running to have responsive figures.\n",
              "\n",
              "    Defaults to True in non-interactive mode and to False in interactive\n",
              "    mode (see `.pyplot.isinteractive`).\n",
              "\n",
              "See Also\n",
              "--------\n",
              "ion : Enable interactive mode, which shows / updates the figure after\n",
              "      every plotting command, so that calling ``show()`` is not necessary.\n",
              "ioff : Disable interactive mode.\n",
              "savefig : Save the figure to an image file instead of showing it on screen.\n",
              "\n",
              "Notes\n",
              "-----\n",
              "**Saving figures to file and showing a window at the same time**\n",
              "\n",
              "If you want an image file as well as a user interface window, use\n",
              "`.pyplot.savefig` before `.pyplot.show`. At the end of (a blocking)\n",
              "``show()`` the figure is closed and thus unregistered from pyplot. Calling\n",
              "`.pyplot.savefig` afterwards would save a new and thus empty figure. This\n",
              "limitation of command order does not apply if the show is non-blocking or\n",
              "if you keep a reference to the figure and use `.Figure.savefig`.\n",
              "\n",
              "**Auto-show in jupyter notebooks**\n",
              "\n",
              "The jupyter backends (activated via ``%matplotlib inline``,\n",
              "``%matplotlib notebook``, or ``%matplotlib widget``), call ``show()`` at\n",
              "the end of every cell by default. Thus, you usually don&#x27;t have to call it\n",
              "explicitly there.</pre>\n",
              "      <script>\n",
              "      if (google.colab.kernel.accessAllowed && google.colab.files && google.colab.files.view) {\n",
              "        for (const element of document.querySelectorAll('.filepath')) {\n",
              "          element.style.display = 'block'\n",
              "          element.onclick = (event) => {\n",
              "            event.preventDefault();\n",
              "            event.stopPropagation();\n",
              "            google.colab.files.view(element.textContent, 569);\n",
              "          };\n",
              "        }\n",
              "      }\n",
              "      for (const element of document.querySelectorAll('.function-repr-contents')) {\n",
              "        element.onclick = (event) => {\n",
              "          event.preventDefault();\n",
              "          event.stopPropagation();\n",
              "          element.classList.toggle('function-repr-contents-collapsed');\n",
              "        };\n",
              "      }\n",
              "      </script>\n",
              "      </div>"
            ]
          },
          "metadata": {},
          "execution_count": 13
        },
        {
          "output_type": "display_data",
          "data": {
            "text/plain": [
              "<Figure size 640x480 with 1 Axes>"
            ],
            "image/png": "[encoded data removed]"
          },
          "metadata": {}
        }
      ]
    },
    {
      "cell_type": "markdown",
      "source": [
        "Fitted vs residual plot: The residuals do not appear to be uniformly scattered throughout the line scattered around the horizontal line at 0 thus the model may not fully capture the relationship between predictors and the response variable or the response variable isn't completely explained by its explanatory variables. So the assumptions of linearity and equal variance aren't satisified\n",
        "\n",
        "​QQ plot:  The residuals deviate significantly from the theoretical line which shows that the residuals are not normally distributed. So the normality assumption for residuals is violated. This can affect the validity of inference, including confidence intervals and p-values."
      ],
      "metadata": {
        "id": "hwHlvBi6TZxJ"
      }
    },
    {
      "cell_type": "markdown",
      "source": [
        "# Logistic Regression"
      ],
      "metadata": {
        "id": "wVFEK3FQT899"
      }
    },
    {
      "cell_type": "code",
      "source": [
        "df1 = pd.read_csv('video_games.csv', encoding='unicode-escape')\n",
        "df1 = df1.rename(columns={'Review Score': 'Review_Score'})"
      ],
      "metadata": {
        "id": "walR8Y-dTkfT"
      },
      "execution_count": 14,
      "outputs": []
    },
    {
      "cell_type": "code",
      "source": [
        "## categorical explanatory variable(creating levels to convert quantitative variable to categorial)\n",
        "## Sequel Levels: One sequel, No sequel, Two sequels\n",
        "df1['Sequel'] = df1['Sequel'].replace({1: 'One', 0: 'No', 2: 'Two'})\n",
        "df1['Sequel'].value_counts()"
      ],
      "metadata": {
        "colab": {
          "base_uri": "https://localhost:8080/",
          "height": 209
        },
        "id": "Z0XfCzmeUHb0",
        "outputId": "b52e5154-25c6-46f2-b78b-1a01150ab7f6"
      },
      "execution_count": 15,
      "outputs": [
        {
          "output_type": "execute_result",
          "data": {
            "text/plain": [
              "Sequel\n",
              "One    920\n",
              "No     843\n",
              "Two      7\n",
              "Name: count, dtype: int64"
            ],
            "text/html": [
              "<div>\n",
              "<style scoped>\n",
              "    .dataframe tbody tr th:only-of-type {\n",
              "        vertical-align: middle;\n",
              "    }\n",
              "\n",
              "    .dataframe tbody tr th {\n",
              "        vertical-align: top;\n",
              "    }\n",
              "\n",
              "    .dataframe thead th {\n",
              "        text-align: right;\n",
              "    }\n",
              "</style>\n",
              "<table border=\"1\" class=\"dataframe\">\n",
              "  <thead>\n",
              "    <tr style=\"text-align: right;\">\n",
              "      <th></th>\n",
              "      <th>count</th>\n",
              "    </tr>\n",
              "    <tr>\n",
              "      <th>Sequel</th>\n",
              "      <th></th>\n",
              "    </tr>\n",
              "  </thead>\n",
              "  <tbody>\n",
              "    <tr>\n",
              "      <th>One</th>\n",
              "      <td>920</td>\n",
              "    </tr>\n",
              "    <tr>\n",
              "      <th>No</th>\n",
              "      <td>843</td>\n",
              "    </tr>\n",
              "    <tr>\n",
              "      <th>Two</th>\n",
              "      <td>7</td>\n",
              "    </tr>\n",
              "  </tbody>\n",
              "</table>\n",
              "</div><br><label><b>dtype:</b> int64</label>"
            ]
          },
          "metadata": {},
          "execution_count": 15
        }
      ]
    },
    {
      "cell_type": "code",
      "source": [
        "## Response variable will be Success. If a video game has total US Sales less than the median sale then the Success column\n",
        "## will record a 0. Whereas if a video game has higher than median sales then the Success column records a 1.\n",
        "df1['Success'] = np.where(df1['US Sales (millions)'] > df1['US Sales (millions)'].median(), 1, 0)\n",
        "df1['Success'].value_counts()"
      ],
      "metadata": {
        "colab": {
          "base_uri": "https://localhost:8080/",
          "height": 178
        },
        "id": "PgV-qBW-UlG7",
        "outputId": "c1a26949-4ea5-4c1d-c495-3f8d06b0954d"
      },
      "execution_count": 16,
      "outputs": [
        {
          "output_type": "execute_result",
          "data": {
            "text/plain": [
              "Success\n",
              "0    895\n",
              "1    875\n",
              "Name: count, dtype: int64"
            ],
            "text/html": [
              "<div>\n",
              "<style scoped>\n",
              "    .dataframe tbody tr th:only-of-type {\n",
              "        vertical-align: middle;\n",
              "    }\n",
              "\n",
              "    .dataframe tbody tr th {\n",
              "        vertical-align: top;\n",
              "    }\n",
              "\n",
              "    .dataframe thead th {\n",
              "        text-align: right;\n",
              "    }\n",
              "</style>\n",
              "<table border=\"1\" class=\"dataframe\">\n",
              "  <thead>\n",
              "    <tr style=\"text-align: right;\">\n",
              "      <th></th>\n",
              "      <th>count</th>\n",
              "    </tr>\n",
              "    <tr>\n",
              "      <th>Success</th>\n",
              "      <th></th>\n",
              "    </tr>\n",
              "  </thead>\n",
              "  <tbody>\n",
              "    <tr>\n",
              "      <th>0</th>\n",
              "      <td>895</td>\n",
              "    </tr>\n",
              "    <tr>\n",
              "      <th>1</th>\n",
              "      <td>875</td>\n",
              "    </tr>\n",
              "  </tbody>\n",
              "</table>\n",
              "</div><br><label><b>dtype:</b> int64</label>"
            ]
          },
          "metadata": {},
          "execution_count": 16
        }
      ]
    },
    {
      "cell_type": "code",
      "source": [
        "## Logistic regression model that predicts odds of video game success based on the console, number of sequels\n",
        "## review score, price and maximum players\n",
        "\n",
        "from sklearn.model_selection import train_test_split\n",
        "train_data, test_data = train_test_split(df1, test_size=0.3, random_state=1024)\n",
        "logistic_model = smf.logit('Success ~ Console + Sequel + Review_Score+ Usedprice + MaxPlayers', data = train_data).fit()\n",
        "logistic_model.summary()"
      ],
      "metadata": {
        "colab": {
          "base_uri": "https://localhost:8080/",
          "height": 530
        },
        "id": "uzqwNyD_UtGa",
        "outputId": "c38e6118-ad87-4e5d-b338-be4c101240bf"
      },
      "execution_count": 17,
      "outputs": [
        {
          "output_type": "stream",
          "name": "stdout",
          "text": [
            "Warning: Maximum number of iterations has been exceeded.\n",
            "         Current function value: 0.575324\n",
            "         Iterations: 35\n"
          ]
        },
        {
          "output_type": "stream",
          "name": "stderr",
          "text": [
            "/usr/local/lib/python3.11/dist-packages/statsmodels/base/model.py:607: ConvergenceWarning: Maximum Likelihood optimization failed to converge. Check mle_retvals\n",
            "  warnings.warn(\"Maximum Likelihood optimization failed to \"\n"
          ]
        },
        {
          "output_type": "execute_result",
          "data": {
            "text/plain": [
              "<class 'statsmodels.iolib.summary.Summary'>\n",
              "\"\"\"\n",
              "                           Logit Regression Results                           \n",
              "==============================================================================\n",
              "Dep. Variable:                Success   No. Observations:                 1239\n",
              "Model:                          Logit   Df Residuals:                     1229\n",
              "Method:                           MLE   Df Model:                            9\n",
              "Date:                Mon, 27 Jan 2025   Pseudo R-squ.:                  0.1697\n",
              "Time:                        15:17:19   Log-Likelihood:                -712.83\n",
              "converged:                      False   LL-Null:                       -858.56\n",
              "Covariance Type:            nonrobust   LLR p-value:                 1.687e-57\n",
              "============================================================================================\n",
              "                               coef    std err          z      P>|z|      [0.025      0.975]\n",
              "--------------------------------------------------------------------------------------------\n",
              "Intercept                   -5.2649      0.413    -12.742      0.000      -6.075      -4.455\n",
              "Console[T.Nintendo Wii]      0.9055      0.214      4.237      0.000       0.487       1.324\n",
              "Console[T.PlayStation 3]     0.5964      0.217      2.743      0.006       0.170       1.023\n",
              "Console[T.Sony PSP]         -0.0890      0.204     -0.437      0.662      -0.488       0.310\n",
              "Console[T.X360]              0.5509      0.192      2.870      0.004       0.175       0.927\n",
              "Sequel[T.One]                0.5914      0.131      4.527      0.000       0.335       0.848\n",
              "Sequel[T.Two]              -28.6997   6.55e+05  -4.38e-05      1.000   -1.28e+06    1.28e+06\n",
              "Review_Score                 0.0670      0.006     11.601      0.000       0.056       0.078\n",
              "Usedprice                   -0.0075      0.009     -0.814      0.416      -0.026       0.011\n",
              "MaxPlayers                   0.0413      0.057      0.723      0.470      -0.071       0.153\n",
              "============================================================================================\n",
              "\"\"\""
            ],
            "text/html": [
              "<table class=\"simpletable\">\n",
              "<caption>Logit Regression Results</caption>\n",
              "<tr>\n",
              "  <th>Dep. Variable:</th>        <td>Success</td>     <th>  No. Observations:  </th>  <td>  1239</td>  \n",
              "</tr>\n",
              "<tr>\n",
              "  <th>Model:</th>                 <td>Logit</td>      <th>  Df Residuals:      </th>  <td>  1229</td>  \n",
              "</tr>\n",
              "<tr>\n",
              "  <th>Method:</th>                 <td>MLE</td>       <th>  Df Model:          </th>  <td>     9</td>  \n",
              "</tr>\n",
              "<tr>\n",
              "  <th>Date:</th>            <td>Mon, 27 Jan 2025</td> <th>  Pseudo R-squ.:     </th>  <td>0.1697</td>  \n",
              "</tr>\n",
              "<tr>\n",
              "  <th>Time:</th>                <td>15:17:19</td>     <th>  Log-Likelihood:    </th> <td> -712.83</td> \n",
              "</tr>\n",
              "<tr>\n",
              "  <th>converged:</th>             <td>False</td>      <th>  LL-Null:           </th> <td> -858.56</td> \n",
              "</tr>\n",
              "<tr>\n",
              "  <th>Covariance Type:</th>     <td>nonrobust</td>    <th>  LLR p-value:       </th> <td>1.687e-57</td>\n",
              "</tr>\n",
              "</table>\n",
              "<table class=\"simpletable\">\n",
              "<tr>\n",
              "              <td></td>                <th>coef</th>     <th>std err</th>      <th>z</th>      <th>P>|z|</th>  <th>[0.025</th>    <th>0.975]</th>  \n",
              "</tr>\n",
              "<tr>\n",
              "  <th>Intercept</th>                <td>   -5.2649</td> <td>    0.413</td> <td>  -12.742</td> <td> 0.000</td> <td>   -6.075</td> <td>   -4.455</td>\n",
              "</tr>\n",
              "<tr>\n",
              "  <th>Console[T.Nintendo Wii]</th>  <td>    0.9055</td> <td>    0.214</td> <td>    4.237</td> <td> 0.000</td> <td>    0.487</td> <td>    1.324</td>\n",
              "</tr>\n",
              "<tr>\n",
              "  <th>Console[T.PlayStation 3]</th> <td>    0.5964</td> <td>    0.217</td> <td>    2.743</td> <td> 0.006</td> <td>    0.170</td> <td>    1.023</td>\n",
              "</tr>\n",
              "<tr>\n",
              "  <th>Console[T.Sony PSP]</th>      <td>   -0.0890</td> <td>    0.204</td> <td>   -0.437</td> <td> 0.662</td> <td>   -0.488</td> <td>    0.310</td>\n",
              "</tr>\n",
              "<tr>\n",
              "  <th>Console[T.X360]</th>          <td>    0.5509</td> <td>    0.192</td> <td>    2.870</td> <td> 0.004</td> <td>    0.175</td> <td>    0.927</td>\n",
              "</tr>\n",
              "<tr>\n",
              "  <th>Sequel[T.One]</th>            <td>    0.5914</td> <td>    0.131</td> <td>    4.527</td> <td> 0.000</td> <td>    0.335</td> <td>    0.848</td>\n",
              "</tr>\n",
              "<tr>\n",
              "  <th>Sequel[T.Two]</th>            <td>  -28.6997</td> <td> 6.55e+05</td> <td>-4.38e-05</td> <td> 1.000</td> <td>-1.28e+06</td> <td> 1.28e+06</td>\n",
              "</tr>\n",
              "<tr>\n",
              "  <th>Review_Score</th>             <td>    0.0670</td> <td>    0.006</td> <td>   11.601</td> <td> 0.000</td> <td>    0.056</td> <td>    0.078</td>\n",
              "</tr>\n",
              "<tr>\n",
              "  <th>Usedprice</th>                <td>   -0.0075</td> <td>    0.009</td> <td>   -0.814</td> <td> 0.416</td> <td>   -0.026</td> <td>    0.011</td>\n",
              "</tr>\n",
              "<tr>\n",
              "  <th>MaxPlayers</th>               <td>    0.0413</td> <td>    0.057</td> <td>    0.723</td> <td> 0.470</td> <td>   -0.071</td> <td>    0.153</td>\n",
              "</tr>\n",
              "</table>"
            ],
            "text/latex": "\\begin{center}\n\\begin{tabular}{lclc}\n\\toprule\n\\textbf{Dep. Variable:}           &     Success      & \\textbf{  No. Observations:  } &     1239    \\\\\n\\textbf{Model:}                   &      Logit       & \\textbf{  Df Residuals:      } &     1229    \\\\\n\\textbf{Method:}                  &       MLE        & \\textbf{  Df Model:          } &        9    \\\\\n\\textbf{Date:}                    & Mon, 27 Jan 2025 & \\textbf{  Pseudo R-squ.:     } &   0.1697    \\\\\n\\textbf{Time:}                    &     15:17:19     & \\textbf{  Log-Likelihood:    } &   -712.83   \\\\\n\\textbf{converged:}               &      False       & \\textbf{  LL-Null:           } &   -858.56   \\\\\n\\textbf{Covariance Type:}         &    nonrobust     & \\textbf{  LLR p-value:       } & 1.687e-57   \\\\\n\\bottomrule\n\\end{tabular}\n\\begin{tabular}{lcccccc}\n                                  & \\textbf{coef} & \\textbf{std err} & \\textbf{z} & \\textbf{P$> |$z$|$} & \\textbf{[0.025} & \\textbf{0.975]}  \\\\\n\\midrule\n\\textbf{Intercept}                &      -5.2649  &        0.413     &   -12.742  &         0.000        &       -6.075    &       -4.455     \\\\\n\\textbf{Console[T.Nintendo Wii]}  &       0.9055  &        0.214     &     4.237  &         0.000        &        0.487    &        1.324     \\\\\n\\textbf{Console[T.PlayStation 3]} &       0.5964  &        0.217     &     2.743  &         0.006        &        0.170    &        1.023     \\\\\n\\textbf{Console[T.Sony PSP]}      &      -0.0890  &        0.204     &    -0.437  &         0.662        &       -0.488    &        0.310     \\\\\n\\textbf{Console[T.X360]}          &       0.5509  &        0.192     &     2.870  &         0.004        &        0.175    &        0.927     \\\\\n\\textbf{Sequel[T.One]}            &       0.5914  &        0.131     &     4.527  &         0.000        &        0.335    &        0.848     \\\\\n\\textbf{Sequel[T.Two]}            &     -28.6997  &     6.55e+05     & -4.38e-05  &         1.000        &    -1.28e+06    &     1.28e+06     \\\\\n\\textbf{Review\\_Score}            &       0.0670  &        0.006     &    11.601  &         0.000        &        0.056    &        0.078     \\\\\n\\textbf{Usedprice}                &      -0.0075  &        0.009     &    -0.814  &         0.416        &       -0.026    &        0.011     \\\\\n\\textbf{MaxPlayers}               &       0.0413  &        0.057     &     0.723  &         0.470        &       -0.071    &        0.153     \\\\\n\\bottomrule\n\\end{tabular}\n%\\caption{Logit Regression Results}\n\\end{center}"
          },
          "metadata": {},
          "execution_count": 17
        }
      ]
    },
    {
      "cell_type": "markdown",
      "source": [
        "Characteristics Associated with Higher Probability of Success:\n",
        "\n",
        "Categorical Variables:\n",
        "\n",
        "- Nintendo console (Positive coefficient: 0.9055): Games released on Nintendo are associated with a higher likelihood of success compared to the baseline console.\n",
        "\n",
        "- Playstation 3 console (Positive coefficient: 0.5964): Games on PlayStation 3 also have increased odds of success.\n",
        "\n",
        "- Sony PSP console (Negative coefficient: -0.0890): Negative association with success for games on Sony PSP.\n",
        "\n",
        "- T.X360 console (Positive coefficient: 0.5509): X360 games are associated with higher odds of success.\n",
        "\n",
        "- Games with one sequel (Positive coefficient: 0.5914): Games with one sequel are more likely to succeed.\n",
        "Sequel\n",
        "\n",
        "- Games with two sequels (Extreme negative coefficient: -28.699, convergence issue): Likely unreliable due to the convergence issue.\n",
        "\n",
        "Quantitative Variables:\n",
        "\n",
        "- Review_Score (Positive coefficient: 0.0670): Higher review scores significantly increase the odds of success.\n",
        "\n",
        "- Usedprice (Negative coefficient: -0.0075): Negative association so decreasing odds of success so higher the usedprice, lower the odds of success\n",
        "\n",
        "- MaxPlayers(Positive coefficient: 0.0413): Positive assosciation and increases the odds of success with increase in MaxPlayers"
      ],
      "metadata": {
        "id": "NYMy0JC1VFS8"
      }
    },
    {
      "cell_type": "code",
      "source": [
        "from sklearn.metrics import roc_auc_score, roc_curve\n",
        "\n",
        "y_pred_proba = logistic_model.predict(test_data)\n",
        "\n",
        "auc = roc_auc_score(test_data['Success'], y_pred_proba)\n",
        "auc"
      ],
      "metadata": {
        "colab": {
          "base_uri": "https://localhost:8080/"
        },
        "id": "SQMkvnMxV551",
        "outputId": "f133747f-af27-4626-f67e-4f024c6afb77"
      },
      "execution_count": 18,
      "outputs": [
        {
          "output_type": "execute_result",
          "data": {
            "text/plain": [
              "0.7739486975767551"
            ]
          },
          "metadata": {},
          "execution_count": 18
        }
      ]
    },
    {
      "cell_type": "markdown",
      "source": [
        "Model Accuracy Evaluvation\n",
        "\n",
        "Pseudo R² of 0.1697: Indicates a lower model fit for our model AUC score of 0.7739: This can be interpreted as the model correctly distinguishes between Success (sales > median) and Non-Success 77.3% of the time. This shows that the model has a moderate ability to classify outcomes, but there is still room for improvement."
      ],
      "metadata": {
        "id": "ElhSfK9rWT5k"
      }
    },
    {
      "cell_type": "markdown",
      "source": [
        "# Classifier"
      ],
      "metadata": {
        "id": "0Or53jggW9Jy"
      }
    },
    {
      "cell_type": "code",
      "source": [
        "## Building a classifier with a threshold 0.5\n",
        "test_data['Predicted_Prob'] = logistic_model.predict(test_data)\n",
        "test_data['Predicted_Class'] = (test_data['Predicted_Prob'] >= 0.5).astype(int)\n",
        "test_data[['Predicted_Prob', 'Predicted_Class']].head()"
      ],
      "metadata": {
        "colab": {
          "base_uri": "https://localhost:8080/",
          "height": 206
        },
        "id": "_a4oLAhIXAZO",
        "outputId": "4ba394b0-6ee0-4f1c-dc24-fc256c121579"
      },
      "execution_count": 19,
      "outputs": [
        {
          "output_type": "execute_result",
          "data": {
            "text/plain": [
              "      Predicted_Prob  Predicted_Class\n",
              "1709        0.846077                1\n",
              "769         0.412651                0\n",
              "680         0.444398                0\n",
              "639         0.772622                1\n",
              "1723        0.668978                1"
            ],
            "text/html": [
              "\n",
              "  <div id=\"df-539da2c2-a2b0-4986-ae78-973d6d48e82e\" class=\"colab-df-container\">\n",
              "    <div>\n",
              "<style scoped>\n",
              "    .dataframe tbody tr th:only-of-type {\n",
              "        vertical-align: middle;\n",
              "    }\n",
              "\n",
              "    .dataframe tbody tr th {\n",
              "        vertical-align: top;\n",
              "    }\n",
              "\n",
              "    .dataframe thead th {\n",
              "        text-align: right;\n",
              "    }\n",
              "</style>\n",
              "<table border=\"1\" class=\"dataframe\">\n",
              "  <thead>\n",
              "    <tr style=\"text-align: right;\">\n",
              "      <th></th>\n",
              "      <th>Predicted_Prob</th>\n",
              "      <th>Predicted_Class</th>\n",
              "    </tr>\n",
              "  </thead>\n",
              "  <tbody>\n",
              "    <tr>\n",
              "      <th>1709</th>\n",
              "      <td>0.846077</td>\n",
              "      <td>1</td>\n",
              "    </tr>\n",
              "    <tr>\n",
              "      <th>769</th>\n",
              "      <td>0.412651</td>\n",
              "      <td>0</td>\n",
              "    </tr>\n",
              "    <tr>\n",
              "      <th>680</th>\n",
              "      <td>0.444398</td>\n",
              "      <td>0</td>\n",
              "    </tr>\n",
              "    <tr>\n",
              "      <th>639</th>\n",
              "      <td>0.772622</td>\n",
              "      <td>1</td>\n",
              "    </tr>\n",
              "    <tr>\n",
              "      <th>1723</th>\n",
              "      <td>0.668978</td>\n",
              "      <td>1</td>\n",
              "    </tr>\n",
              "  </tbody>\n",
              "</table>\n",
              "</div>\n",
              "    <div class=\"colab-df-buttons\">\n",
              "\n",
              "  <div class=\"colab-df-container\">\n",
              "    <button class=\"colab-df-convert\" onclick=\"convertToInteractive('df-539da2c2-a2b0-4986-ae78-973d6d48e82e')\"\n",
              "            title=\"Convert this dataframe to an interactive table.\"\n",
              "            style=\"display:none;\">\n",
              "\n",
              "  <svg xmlns=\"http://www.w3.org/2000/svg\" height=\"24px\" viewBox=\"0 -960 960 960\">\n",
              "    <path d=\"M120-120v-720h720v720H120Zm60-500h600v-160H180v160Zm220 220h160v-160H400v160Zm0 220h160v-160H400v160ZM180-400h160v-160H180v160Zm440 0h160v-160H620v160ZM180-180h160v-160H180v160Zm440 0h160v-160H620v160Z\"/>\n",
              "  </svg>\n",
              "    </button>\n",
              "\n",
              "  <style>\n",
              "    .colab-df-container {\n",
              "      display:flex;\n",
              "      gap: 12px;\n",
              "    }\n",
              "\n",
              "    .colab-df-convert {\n",
              "      background-color: #E8F0FE;\n",
              "      border: none;\n",
              "      border-radius: 50%;\n",
              "      cursor: pointer;\n",
              "      display: none;\n",
              "      fill: #1967D2;\n",
              "      height: 32px;\n",
              "      padding: 0 0 0 0;\n",
              "      width: 32px;\n",
              "    }\n",
              "\n",
              "    .colab-df-convert:hover {\n",
              "      background-color: #E2EBFA;\n",
              "      box-shadow: 0px 1px 2px rgba(60, 64, 67, 0.3), 0px 1px 3px 1px rgba(60, 64, 67, 0.15);\n",
              "      fill: #174EA6;\n",
              "    }\n",
              "\n",
              "    .colab-df-buttons div {\n",
              "      margin-bottom: 4px;\n",
              "    }\n",
              "\n",
              "    [theme=dark] .colab-df-convert {\n",
              "      background-color: #3B4455;\n",
              "      fill: #D2E3FC;\n",
              "    }\n",
              "\n",
              "    [theme=dark] .colab-df-convert:hover {\n",
              "      background-color: #434B5C;\n",
              "      box-shadow: 0px 1px 3px 1px rgba(0, 0, 0, 0.15);\n",
              "      filter: drop-shadow(0px 1px 2px rgba(0, 0, 0, 0.3));\n",
              "      fill: #FFFFFF;\n",
              "    }\n",
              "  </style>\n",
              "\n",
              "    <script>\n",
              "      const buttonEl =\n",
              "        document.querySelector('#df-539da2c2-a2b0-4986-ae78-973d6d48e82e button.colab-df-convert');\n",
              "      buttonEl.style.display =\n",
              "        google.colab.kernel.accessAllowed ? 'block' : 'none';\n",
              "\n",
              "      async function convertToInteractive(key) {\n",
              "        const element = document.querySelector('#df-539da2c2-a2b0-4986-ae78-973d6d48e82e');\n",
              "        const dataTable =\n",
              "          await google.colab.kernel.invokeFunction('convertToInteractive',\n",
              "                                                    [key], {});\n",
              "        if (!dataTable) return;\n",
              "\n",
              "        const docLinkHtml = 'Like what you see? Visit the ' +\n",
              "          '<a target=\"_blank\" href=https://colab.research.google.com/notebooks/data_table.ipynb>data table notebook</a>'\n",
              "          + ' to learn more about interactive tables.';\n",
              "        element.innerHTML = '';\n",
              "        dataTable['output_type'] = 'display_data';\n",
              "        await google.colab.output.renderOutput(dataTable, element);\n",
              "        const docLink = document.createElement('div');\n",
              "        docLink.innerHTML = docLinkHtml;\n",
              "        element.appendChild(docLink);\n",
              "      }\n",
              "    </script>\n",
              "  </div>\n",
              "\n",
              "\n",
              "<div id=\"df-b1b4acd6-3134-499d-8850-81a4416a3b18\">\n",
              "  <button class=\"colab-df-quickchart\" onclick=\"quickchart('df-b1b4acd6-3134-499d-8850-81a4416a3b18')\"\n",
              "            title=\"Suggest charts\"\n",
              "            style=\"display:none;\">\n",
              "\n",
              "<svg xmlns=\"http://www.w3.org/2000/svg\" height=\"24px\"viewBox=\"0 0 24 24\"\n",
              "     width=\"24px\">\n",
              "    <g>\n",
              "        <path d=\"M19 3H5c-1.1 0-2 .9-2 2v14c0 1.1.9 2 2 2h14c1.1 0 2-.9 2-2V5c0-1.1-.9-2-2-2zM9 17H7v-7h2v7zm4 0h-2V7h2v10zm4 0h-2v-4h2v4z\"/>\n",
              "    </g>\n",
              "</svg>\n",
              "  </button>\n",
              "\n",
              "<style>\n",
              "  .colab-df-quickchart {\n",
              "      --bg-color: #E8F0FE;\n",
              "      --fill-color: #1967D2;\n",
              "      --hover-bg-color: #E2EBFA;\n",
              "      --hover-fill-color: #174EA6;\n",
              "      --disabled-fill-color: #AAA;\n",
              "      --disabled-bg-color: #DDD;\n",
              "  }\n",
              "\n",
              "  [theme=dark] .colab-df-quickchart {\n",
              "      --bg-color: #3B4455;\n",
              "      --fill-color: #D2E3FC;\n",
              "      --hover-bg-color: #434B5C;\n",
              "      --hover-fill-color: #FFFFFF;\n",
              "      --disabled-bg-color: #3B4455;\n",
              "      --disabled-fill-color: #666;\n",
              "  }\n",
              "\n",
              "  .colab-df-quickchart {\n",
              "    background-color: var(--bg-color);\n",
              "    border: none;\n",
              "    border-radius: 50%;\n",
              "    cursor: pointer;\n",
              "    display: none;\n",
              "    fill: var(--fill-color);\n",
              "    height: 32px;\n",
              "    padding: 0;\n",
              "    width: 32px;\n",
              "  }\n",
              "\n",
              "  .colab-df-quickchart:hover {\n",
              "    background-color: var(--hover-bg-color);\n",
              "    box-shadow: 0 1px 2px rgba(60, 64, 67, 0.3), 0 1px 3px 1px rgba(60, 64, 67, 0.15);\n",
              "    fill: var(--button-hover-fill-color);\n",
              "  }\n",
              "\n",
              "  .colab-df-quickchart-complete:disabled,\n",
              "  .colab-df-quickchart-complete:disabled:hover {\n",
              "    background-color: var(--disabled-bg-color);\n",
              "    fill: var(--disabled-fill-color);\n",
              "    box-shadow: none;\n",
              "  }\n",
              "\n",
              "  .colab-df-spinner {\n",
              "    border: 2px solid var(--fill-color);\n",
              "    border-color: transparent;\n",
              "    border-bottom-color: var(--fill-color);\n",
              "    animation:\n",
              "      spin 1s steps(1) infinite;\n",
              "  }\n",
              "\n",
              "  @keyframes spin {\n",
              "    0% {\n",
              "      border-color: transparent;\n",
              "      border-bottom-color: var(--fill-color);\n",
              "      border-left-color: var(--fill-color);\n",
              "    }\n",
              "    20% {\n",
              "      border-color: transparent;\n",
              "      border-left-color: var(--fill-color);\n",
              "      border-top-color: var(--fill-color);\n",
              "    }\n",
              "    30% {\n",
              "      border-color: transparent;\n",
              "      border-left-color: var(--fill-color);\n",
              "      border-top-color: var(--fill-color);\n",
              "      border-right-color: var(--fill-color);\n",
              "    }\n",
              "    40% {\n",
              "      border-color: transparent;\n",
              "      border-right-color: var(--fill-color);\n",
              "      border-top-color: var(--fill-color);\n",
              "    }\n",
              "    60% {\n",
              "      border-color: transparent;\n",
              "      border-right-color: var(--fill-color);\n",
              "    }\n",
              "    80% {\n",
              "      border-color: transparent;\n",
              "      border-right-color: var(--fill-color);\n",
              "      border-bottom-color: var(--fill-color);\n",
              "    }\n",
              "    90% {\n",
              "      border-color: transparent;\n",
              "      border-bottom-color: var(--fill-color);\n",
              "    }\n",
              "  }\n",
              "</style>\n",
              "\n",
              "  <script>\n",
              "    async function quickchart(key) {\n",
              "      const quickchartButtonEl =\n",
              "        document.querySelector('#' + key + ' button');\n",
              "      quickchartButtonEl.disabled = true;  // To prevent multiple clicks.\n",
              "      quickchartButtonEl.classList.add('colab-df-spinner');\n",
              "      try {\n",
              "        const charts = await google.colab.kernel.invokeFunction(\n",
              "            'suggestCharts', [key], {});\n",
              "      } catch (error) {\n",
              "        console.error('Error during call to suggestCharts:', error);\n",
              "      }\n",
              "      quickchartButtonEl.classList.remove('colab-df-spinner');\n",
              "      quickchartButtonEl.classList.add('colab-df-quickchart-complete');\n",
              "    }\n",
              "    (() => {\n",
              "      let quickchartButtonEl =\n",
              "        document.querySelector('#df-b1b4acd6-3134-499d-8850-81a4416a3b18 button');\n",
              "      quickchartButtonEl.style.display =\n",
              "        google.colab.kernel.accessAllowed ? 'block' : 'none';\n",
              "    })();\n",
              "  </script>\n",
              "</div>\n",
              "\n",
              "    </div>\n",
              "  </div>\n"
            ],
            "application/vnd.google.colaboratory.intrinsic+json": {
              "type": "dataframe",
              "summary": "{\n  \"name\": \"test_data[['Predicted_Prob', 'Predicted_Class']]\",\n  \"rows\": 5,\n  \"fields\": [\n    {\n      \"column\": \"Predicted_Prob\",\n      \"properties\": {\n        \"dtype\": \"number\",\n        \"std\": 0.19379944976234945,\n        \"min\": 0.412650842497938,\n        \"max\": 0.846076912123297,\n        \"num_unique_values\": 5,\n        \"samples\": [\n          0.412650842497938,\n          0.6689784050333033,\n          0.4443976032814695\n        ],\n        \"semantic_type\": \"\",\n        \"description\": \"\"\n      }\n    },\n    {\n      \"column\": \"Predicted_Class\",\n      \"properties\": {\n        \"dtype\": \"number\",\n        \"std\": 0,\n        \"min\": 0,\n        \"max\": 1,\n        \"num_unique_values\": 2,\n        \"samples\": [\n          0,\n          1\n        ],\n        \"semantic_type\": \"\",\n        \"description\": \"\"\n      }\n    }\n  ]\n}"
            }
          },
          "metadata": {},
          "execution_count": 19
        }
      ]
    },
    {
      "cell_type": "code",
      "source": [
        "## Generating a confusion matrix using test data to generate:\n",
        "## tn - True Negatives , tp - True Positives, fp - False Positives , fn - False Negatives\n",
        "from sklearn.metrics import confusion_matrix, accuracy_score, recall_score\n",
        "\n",
        "cm = confusion_matrix(test_data['Success'], test_data['Predicted_Class'])\n",
        "tn, fp, fn, tp = cm.ravel()\n"
      ],
      "metadata": {
        "id": "dn7ZZwHBYNnj"
      },
      "execution_count": 25,
      "outputs": []
    },
    {
      "cell_type": "code",
      "source": [
        "## Calculating the accuracy, senstivity and specificity of the classifier\n",
        "accuracy = (tn+tp)/(tn+tp+fn+fp)\n",
        "sensitivity = tp/(tp+fn)\n",
        "specificity = tn/(tn+fp)\n",
        "\n",
        "print( accuracy, sensitivity, specificity)"
      ],
      "metadata": {
        "colab": {
          "base_uri": "https://localhost:8080/"
        },
        "id": "wmC9kvJGYV7q",
        "outputId": "8de99c02-b8bc-4b8f-ad1a-a07c489b1a0c"
      },
      "execution_count": 26,
      "outputs": [
        {
          "output_type": "stream",
          "name": "stdout",
          "text": [
            "0.7005649717514124 0.6791044776119403 0.7224334600760456\n"
          ]
        }
      ]
    },
    {
      "cell_type": "markdown",
      "source": [
        "Interpretation:\n",
        "\n",
        "-  Accuracy (70.1%)\n",
        "Accuracy represents the overall effectiveness of the model in making correct predictions. In this case, the model correctly classifies 70.1% of all instances, whether they are successes or failures. While this is a good indication of general performance, it doesn't reveal how well the model distinguishes between the specific classes.\n",
        "\n",
        "-  Sensitivity (67.9%)\n",
        "Sensitivity, or the true positive rate, indicates the model's ability to correctly identify successful cases. Here, 67.9% of actual successes are detected by the model. This shows the model performs reasonably well but might miss some true successes, which could be an issue if identifying successes is critical.\n",
        "\n",
        "- Specificity (72.2%)\n",
        "Specificity measures the model's ability to correctly identify failures. At 72.2%, the model is slightly better at recognizing failures compared to successes. This is useful if avoiding false positives (incorrectly predicting success) is important for the application.\n",
        "\n",
        "Errors we want to minimize:\n",
        "\n",
        "- Minimizing False Negatives (FN): If predicting Success corresponds to importyant things like investments, marketing anf future projects, missing actual successes could mean missed revenue opportunities.\n",
        "\n",
        "- Minimizing False Positives (FP): If Success predictions lead to wasted resources on a video game, minimizing overestimation is important. In this case, I would say that a false negative is probably the error I want to avoid"
      ],
      "metadata": {
        "id": "JwipxahDZH1n"
      }
    },
    {
      "cell_type": "markdown",
      "source": [
        "Comparing classifier results with AUC score:\n",
        "\n",
        "The classifier achieves an accuracy of 70.1%, a sensitivity of 67.9%, and a specificity of 72.2%. While the accuracy and AUC score (0.773) suggest moderate performance, the sensitivity indicates that 32.1% of actual successes (Success = 1) are misclassified as non-successes, which is a concern since False Negatives (FN) need to be reduced. Missing actual successes could result in lost opportunities. Although the specificity is slightly higher (72.2%), indicating better performance at avoiding False Positives, the current classifier might not be ideal for minimizing False Negatives."
      ],
      "metadata": {
        "id": "zNXJfyIxaqsd"
      }
    },
    {
      "cell_type": "markdown",
      "source": [
        "# Conclusion"
      ],
      "metadata": {
        "id": "FmElqZvEa-Gb"
      }
    },
    {
      "cell_type": "markdown",
      "source": [
        " In the linear regression task, I aimed to predict US sales using predictors like the year of release, used price, review score, and maximum players. The model explained 11.5% of the variance in sales (R-squared = 0.115), indicating a limited ability to capture the variability in sales, and the RMSE of 0.8525 million units suggests substantial error in the predictions. Residual diagnostic plots revealed violations of key linear regression assumptions, such as linearity, equal variance, and normality.\n",
        "\n",
        " For the logistic regression task, I modeled the probability of a game being a \"success\" based on sales exceeding the median, using predictors such as genre (Action vs. Non-Action), console, review scores, used price, and maximum players. The logistic model had a pseudo R-squared of 0.17 and an AUC score of 0.773, showing moderate predictive power. However, sensitivity and specificity values show a trade-off between correctly identifying successes and avoiding false positives. This means there are areas for improvement in classification.\n"
      ],
      "metadata": {
        "id": "sv4mhquQbArN"
      }
    },
    {
      "cell_type": "markdown",
      "source": [
        "Limitations:\n",
        "\n",
        "The linear regression faced limitations in explanatory power, as the R-squared value was really low. The assumption violations suggest that the relationship between predictors and the response variable may be non-linear or influenced by omitted variables.\n",
        "\n",
        "In the logistic regression, categorical variables like Genre required significant preprocessing. Additionally, the potential multicollinearity in predictors and convergence issues in the logistic model may have affected interpretability and stability of results. These limitations restrict the ability to draw strong conclusions or apply the results to broader contexts like market forecasting or game design optimization.\n"
      ],
      "metadata": {
        "id": "On2Cm5cnbRQi"
      }
    },
    {
      "cell_type": "markdown",
      "source": [
        "Future Analysis:\n",
        "\n",
        "Linear regression could involve including non-linear terms or interaction effects to better capture relationships between predictors and sales. Advanced regression techniques like ridge or lasso regression may address multicollinearity and improve model performance. Future research could also investigate specific segments of the dataset, such as differences in predictors for Action versus Non-Action genres or the impact of console exclusivity, to provide better results."
      ],
      "metadata": {
        "id": "lKkoEp56beps"
      }
    }
  ]
}